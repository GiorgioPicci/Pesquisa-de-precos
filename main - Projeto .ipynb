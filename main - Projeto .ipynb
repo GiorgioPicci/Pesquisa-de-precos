{
 "cells": [
  {
   "cell_type": "code",
   "execution_count": 6,
   "id": "1dfdbfd5",
   "metadata": {},
   "outputs": [
    {
     "name": "stderr",
     "output_type": "stream",
     "text": [
      "C:\\Users\\Giorgio\\AppData\\Local\\Temp\\ipykernel_6128\\1470495443.py:10: DeprecationWarning: executable_path has been deprecated, please pass in a Service object\n",
      "  driver = webdriver.Chrome(executable_path=r'G:\\anaconda3\\chromedriver.exe', options=options)\n"
     ]
    }
   ],
   "source": [
    "import  pandas as pd\n",
    "import time\n",
    "from selenium.webdriver.common.keys import Keys\n",
    "from selenium import webdriver\n",
    "from selenium.webdriver.chrome.service import Service\n",
    "servico = Service(r\"G:\\anaconda3\\chromedriver.exe\")\n",
    "options = webdriver.ChromeOptions()\n",
    "options.add_argument(r\"use-data-dir=C:\\Users\\Giorgio\\AppData\\Local\\Temp\\scoped_dir4524_1181766242\\profile Selenium\")\n",
    "options.binary_location = r'C:\\Program Files\\Google\\Chrome\\Application\\chrome.exe'\n",
    "driver = webdriver.Chrome(executable_path=r'G:\\anaconda3\\chromedriver.exe', options=options)\n",
    "from selenium.webdriver.common.by import By "
   ]
  },
  {
   "cell_type": "code",
   "execution_count": 7,
   "id": "8469fd7d",
   "metadata": {},
   "outputs": [
    {
     "data": {
      "text/html": [
       "<div>\n",
       "<style scoped>\n",
       "    .dataframe tbody tr th:only-of-type {\n",
       "        vertical-align: middle;\n",
       "    }\n",
       "\n",
       "    .dataframe tbody tr th {\n",
       "        vertical-align: top;\n",
       "    }\n",
       "\n",
       "    .dataframe thead th {\n",
       "        text-align: right;\n",
       "    }\n",
       "</style>\n",
       "<table border=\"1\" class=\"dataframe\">\n",
       "  <thead>\n",
       "    <tr style=\"text-align: right;\">\n",
       "      <th></th>\n",
       "      <th>Nome</th>\n",
       "      <th>Termos banidos</th>\n",
       "      <th>Preço mínimo</th>\n",
       "      <th>Preço máximo</th>\n",
       "    </tr>\n",
       "  </thead>\n",
       "  <tbody>\n",
       "    <tr>\n",
       "      <th>0</th>\n",
       "      <td>iphone 12 64gb</td>\n",
       "      <td>mini watch</td>\n",
       "      <td>3000</td>\n",
       "      <td>3500</td>\n",
       "    </tr>\n",
       "    <tr>\n",
       "      <th>1</th>\n",
       "      <td>rtx 3060</td>\n",
       "      <td>zota galax</td>\n",
       "      <td>4000</td>\n",
       "      <td>4500</td>\n",
       "    </tr>\n",
       "  </tbody>\n",
       "</table>\n",
       "</div>"
      ],
      "text/plain": [
       "             Nome Termos banidos  Preço mínimo  Preço máximo\n",
       "0  iphone 12 64gb     mini watch          3000          3500\n",
       "1        rtx 3060     zota galax          4000          4500"
      ]
     },
     "metadata": {},
     "output_type": "display_data"
    }
   ],
   "source": [
    "# importar/visualizar a base de dados\n",
    "tabela_produtos = pd.read_excel(\"buscas.xlsx\")\n",
    "display(tabela_produtos)"
   ]
  },
  {
   "cell_type": "markdown",
   "id": "4523d664",
   "metadata": {},
   "source": [
    "Definição das funções de busca no google e no buscape"
   ]
  },
  {
   "cell_type": "code",
   "execution_count": 8,
   "id": "9592b418",
   "metadata": {},
   "outputs": [],
   "source": [
    "def busca_google_shopping(nav, produto, termos_banidos, preco_minimo, preco_maximo):\n",
    "    # entrar no google\n",
    "    driver.get(\"https://www.google.com/\")\n",
    "    \n",
    "    # tratar os valores que vieram da tabela\n",
    "    produto = produto.lower()\n",
    "    termos_banidos = termos_banidos.lower()\n",
    "    lista_termos_banidos = termos_banidos.split(\" \")\n",
    "    lista_termos_produto = produto.split(\" \")\n",
    "    preco_maximo = float(preco_maximo)\n",
    "    preco_minimo = float(preco_minimo)\n",
    "    \n",
    "\n",
    "    # pesquisar o nome do produto no google\n",
    "    driver.find_element(By.XPATH, '/html/body/div[1]/div[3]/form/div[1]/div[1]/div[1]/div/div[2]/input').send_keys(produto)\n",
    "    driver.find_element(By.XPATH, '/html/body/div[1]/div[3]/form/div[1]/div[1]/div[1]/div/div[2]/input').send_keys(Keys.ENTER)\n",
    "    \n",
    "    # clicar na aba shopping\n",
    "    elementos = driver.find_elements(By.CLASS_NAME, 'hdtb-mitem')\n",
    "    for item in elementos:\n",
    "        if \"Shopping\" in item.text:\n",
    "            item.click()\n",
    "            break\n",
    "\n",
    "    # pegar a lista de resultados da busca no google shopping\n",
    "    lista_resultados = driver.find_elements(By.CLASS_NAME, 'sh-dgr__grid-result')\n",
    "    \n",
    "    # para cada resultado, ele vai verificar se o resultado corresponde a todas as nossas condicoes\n",
    "    lista_ofertas = [] # lista que a função vai me dar como resposta\n",
    "    for resultado in lista_resultados:\n",
    "        nome = resultado.find_element(By.CLASS_NAME, 'Xjkr3b').text\n",
    "        nome = nome.lower()\n",
    "\n",
    "        # verificacao do nome - se no nome tem algum termo banido\n",
    "        tem_termos_banidos = False\n",
    "        for palavra in lista_termos_banidos:\n",
    "            if palavra in nome:\n",
    "                tem_termos_banidos = True\n",
    "        \n",
    "        # verificar se no nome tem todos os termos do nome do produto\n",
    "        tem_todos_termos_produto = True\n",
    "        for palavra in lista_termos_produto:\n",
    "            if palavra not in nome:\n",
    "                tem_todos_termos_produto = False\n",
    "\n",
    "        if not tem_termos_banidos and tem_todos_termos_produto: # verificando o nome\n",
    "            try:\n",
    "                preco = resultado.find_element(By.CLASS_NAME, 'a8Pemb').text\n",
    "                preco = preco.replace(\"R$\", \"\").replace(\" \", \"\").replace(\".\", \"\").replace(\",\", \".\")\n",
    "                preco = float(preco)\n",
    "                # verificando se o preco ta dentro do minimo e maximo\n",
    "                if preco_minimo <= preco <= preco_maximo:\n",
    "                    elemento_link = resultado.find_element(By.CLASS_NAME, 'aULzUe')\n",
    "                    elemento_pai = elemento_link.find_element(By.XPATH, '..')\n",
    "                    link = elemento_pai.get_attribute('href')\n",
    "                    lista_ofertas.append((nome, preco, link))\n",
    "            except:\n",
    "                continue\n",
    "\n",
    "            \n",
    "    return lista_ofertas\n",
    "    \n",
    "    \n",
    "\n",
    "def busca_buscape(nav, produto, termos_banidos, preco_minimo, preco_maximo):\n",
    "    # tratar os valores da função\n",
    "    preco_maximo = float(preco_maximo)\n",
    "    preco_minimo = float(preco_minimo)\n",
    "    produto = produto.lower()\n",
    "    termos_banidos = termos_banidos.lower()\n",
    "    lista_termos_banidos = termos_banidos.split(\" \")\n",
    "    lista_termos_produto = produto.split(\" \")\n",
    "    \n",
    "    \n",
    "    # entrar no buscape\n",
    "    driver.get(\"https://www.buscape.com.br/\")\n",
    "    \n",
    "    # pesquisar pelo produto no buscape\n",
    "    driver.find_element(By.XPATH, '//*[@id=\"new-header\"]/div[1]/div/div/div[3]/div/div/div/div/div[1]/input').send_keys(produto, Keys.ENTER)\n",
    "    \n",
    "    # pegar a lista de resultados da busca do buscape\n",
    "    time.sleep(5)\n",
    "    lista_resultados = driver.find_elements(By.CLASS_NAME, 'Cell_Content__1630r')\n",
    "    \n",
    "    # para cada resultado\n",
    "    lista_ofertas = []\n",
    "    for resultado in lista_resultados:\n",
    "        try:\n",
    "            preco = resultado.find_element(By.CLASS_NAME, 'CellPrice_MainValue__3s0iP').text\n",
    "            nome = resultado.get_attribute('title')\n",
    "            nome = nome.lower()\n",
    "            link = resultado.get_attribute('href')\n",
    "            \n",
    "            # verificacao do nome - se no nome tem algum termo banido\n",
    "            tem_termos_banidos = False\n",
    "            for palavra in lista_termos_banidos:\n",
    "                if palavra in nome:\n",
    "                    tem_termos_banidos = True  \n",
    "                    \n",
    "            # verificar se no nome tem todos os termos do nome do produto\n",
    "            tem_todos_termos_produto = True\n",
    "            for palavra in lista_termos_produto:\n",
    "                if palavra not in nome:\n",
    "                    tem_todos_termos_produto = False            \n",
    "            \n",
    "            if not tem_termos_banidos and tem_todos_termos_produto:\n",
    "                preco = preco.replace(\"R$\", \"\").replace(\" \", \"\").replace(\".\", \"\").replace(\",\", \".\")\n",
    "                preco = float(preco)\n",
    "                if preco_minimo <= preco <= preco_maximo:\n",
    "                    lista_ofertas.append((nome, preco, link))\n",
    "        except:\n",
    "            pass\n",
    "    return lista_ofertas"
   ]
  },
  {
   "cell_type": "markdown",
   "id": "24ecf918",
   "metadata": {},
   "source": [
    "Construção da nossa lista de ofertas encontradas"
   ]
  },
  {
   "cell_type": "code",
   "execution_count": 9,
   "id": "fb53d635",
   "metadata": {},
   "outputs": [
    {
     "name": "stderr",
     "output_type": "stream",
     "text": [
      "C:\\Users\\Giorgio\\AppData\\Local\\Temp\\ipykernel_6128\\3775212735.py:12: FutureWarning: The frame.append method is deprecated and will be removed from pandas in a future version. Use pandas.concat instead.\n",
      "  tabela_ofertas = tabela_ofertas.append(tabela_google_shopping)\n",
      "C:\\Users\\Giorgio\\AppData\\Local\\Temp\\ipykernel_6128\\3775212735.py:12: FutureWarning: The frame.append method is deprecated and will be removed from pandas in a future version. Use pandas.concat instead.\n",
      "  tabela_ofertas = tabela_ofertas.append(tabela_google_shopping)\n"
     ]
    },
    {
     "data": {
      "text/html": [
       "<div>\n",
       "<style scoped>\n",
       "    .dataframe tbody tr th:only-of-type {\n",
       "        vertical-align: middle;\n",
       "    }\n",
       "\n",
       "    .dataframe tbody tr th {\n",
       "        vertical-align: top;\n",
       "    }\n",
       "\n",
       "    .dataframe thead th {\n",
       "        text-align: right;\n",
       "    }\n",
       "</style>\n",
       "<table border=\"1\" class=\"dataframe\">\n",
       "  <thead>\n",
       "    <tr style=\"text-align: right;\">\n",
       "      <th></th>\n",
       "      <th>produto</th>\n",
       "      <th>preco</th>\n",
       "      <th>link</th>\n",
       "    </tr>\n",
       "  </thead>\n",
       "  <tbody>\n",
       "    <tr>\n",
       "      <th>0</th>\n",
       "      <td>iphone 11 apple 64gb amarelo 6,1 12mp - ios</td>\n",
       "      <td>3414.86</td>\n",
       "      <td>https://www.google.com/url?url=https://www.sub...</td>\n",
       "    </tr>\n",
       "    <tr>\n",
       "      <th>1</th>\n",
       "      <td>iphone 11 apple (64gb) branco, tela de 6,1, 4g...</td>\n",
       "      <td>3449.00</td>\n",
       "      <td>https://www.google.com/url?url=https://www.sho...</td>\n",
       "    </tr>\n",
       "    <tr>\n",
       "      <th>2</th>\n",
       "      <td>iphone 11, preto, 64gb, tela hd 6,1, câm. 12mp...</td>\n",
       "      <td>3099.00</td>\n",
       "      <td>https://www.google.com/url?url=https://lojaonl...</td>\n",
       "    </tr>\n",
       "    <tr>\n",
       "      <th>0</th>\n",
       "      <td>placa de video colorful igame geforce rtx 3060...</td>\n",
       "      <td>4200.00</td>\n",
       "      <td>https://www.google.com/url?url=https://www.cnt...</td>\n",
       "    </tr>\n",
       "  </tbody>\n",
       "</table>\n",
       "</div>"
      ],
      "text/plain": [
       "                                             produto    preco  \\\n",
       "0        iphone 11 apple 64gb amarelo 6,1 12mp - ios  3414.86   \n",
       "1  iphone 11 apple (64gb) branco, tela de 6,1, 4g...  3449.00   \n",
       "2  iphone 11, preto, 64gb, tela hd 6,1, câm. 12mp...  3099.00   \n",
       "0  placa de video colorful igame geforce rtx 3060...  4200.00   \n",
       "\n",
       "                                                link  \n",
       "0  https://www.google.com/url?url=https://www.sub...  \n",
       "1  https://www.google.com/url?url=https://www.sho...  \n",
       "2  https://www.google.com/url?url=https://lojaonl...  \n",
       "0  https://www.google.com/url?url=https://www.cnt...  "
      ]
     },
     "metadata": {},
     "output_type": "display_data"
    }
   ],
   "source": [
    "tabela_ofertas = pd.DataFrame()\n",
    "\n",
    "for linha in tabela_produtos.index:\n",
    "    produto = tabela_produtos.loc[linha, \"Nome\"]\n",
    "    termos_banidos = tabela_produtos.loc[linha, \"Termos banidos\"]\n",
    "    preco_minimo = tabela_produtos.loc[linha, \"Preço mínimo\"]\n",
    "    preco_maximo = tabela_produtos.loc[linha, \"Preço máximo\"]\n",
    "    \n",
    "    lista_ofertas_google_shopping = busca_google_shopping(driver, produto, termos_banidos, preco_minimo, preco_maximo)\n",
    "    if lista_ofertas_google_shopping:\n",
    "        tabela_google_shopping = pd.DataFrame(lista_ofertas_google_shopping, columns=['produto', 'preco', 'link'])\n",
    "        tabela_ofertas = tabela_ofertas.append(tabela_google_shopping)\n",
    "    else:\n",
    "        tabela_google_shopping = None\n",
    "        \n",
    "    lista_ofertas_buscape = busca_buscape(driver, produto, termos_banidos, preco_minimo, preco_maximo)\n",
    "    if lista_ofertas_buscape:\n",
    "        tabela_buscape = pd.DataFrame(lista_ofertas_buscape, columns=['produto', 'preco', 'link'])\n",
    "        tabela_ofertas = tabela_ofertas.append(tabela_buscape)\n",
    "    else:\n",
    "        tabela_buscape = None\n",
    "\n",
    "display(tabela_ofertas)"
   ]
  },
  {
   "cell_type": "markdown",
   "id": "845320a5",
   "metadata": {},
   "source": [
    "Exportar a base de ofertas para Excel"
   ]
  },
  {
   "cell_type": "code",
   "execution_count": 10,
   "id": "dee16081",
   "metadata": {},
   "outputs": [],
   "source": [
    "# exportar pro excel\n",
    "tabela_ofertas = tabela_ofertas.reset_index(drop=True)\n",
    "tabela_ofertas.to_excel(\"Ofertas.xlsx\", index=False)\n"
   ]
  },
  {
   "cell_type": "markdown",
   "id": "b6388cd2",
   "metadata": {},
   "source": [
    "Enviando o e-mail"
   ]
  },
  {
   "cell_type": "code",
   "execution_count": 11,
   "id": "742debbd",
   "metadata": {},
   "outputs": [],
   "source": [
    "# enviar por e-mail o resultado da tabela\n",
    "import smtplib\n",
    "import email.message\n",
    "\n",
    "def enviar_email(): # Neste caso estou usando o Gmail, mas poderia ser usado o outlook também  \n",
    "    corpo_email = f\"\"\"\n",
    "    <p>Prezados,</p>\n",
    "    <p>Encontramos alguns produtos em oferta dentro da faixa de preço desejada. Segue tabela com detalhes</p>\n",
    "    {tabela_ofertas.to_html(index=False)}\n",
    "    <p>Qualquer dúvida estou à disposição</p>\n",
    "    <p>Att.,</p> \n",
    "    \"\"\"\n",
    "    msg = email.message.Message()\n",
    "    msg['Subject'] = \"Produto(s) Encontrado(s) na faixa de preço desejada\"\n",
    "    msg['From'] = 'Giorgiokuhnn@gmail.com'\n",
    "    msg['To'] = 'giorgiokuhnn@gmail.com'\n",
    "    password = 'arioiwkfhjazhnfh' \n",
    "    msg.add_header('Content-Type', 'text/html')\n",
    "    msg.set_payload(corpo_email )\n",
    "\n",
    "    s = smtplib.SMTP('smtp.gmail.com: 587')\n",
    "    s.starttls()\n",
    "    # As credenciais para o envio do email\n",
    "    s.login(msg['From'], password)\n",
    "    s.sendmail(msg['From'], [msg['To']], msg.as_string().encode('utf-8'))\n",
    "    print('Email enviado')\n",
    "\n",
    "driver.quit()  "
   ]
  },
  {
   "cell_type": "code",
   "execution_count": 12,
   "id": "b2ea8673",
   "metadata": {},
   "outputs": [
    {
     "name": "stdout",
     "output_type": "stream",
     "text": [
      "Email enviado\n"
     ]
    }
   ],
   "source": [
    "enviar_email()"
   ]
  }
 ],
 "metadata": {
  "kernelspec": {
   "display_name": "Python 3.10.4 64-bit",
   "language": "python",
   "name": "python3"
  },
  "language_info": {
   "codemirror_mode": {
    "name": "ipython",
    "version": 3
   },
   "file_extension": ".py",
   "mimetype": "text/x-python",
   "name": "python",
   "nbconvert_exporter": "python",
   "pygments_lexer": "ipython3",
   "version": "3.10.4"
  },
  "vscode": {
   "interpreter": {
    "hash": "1e750aa166330df446aa6877ea8c0885c13b6fdc4abe431c472959bfc0aa1162"
   }
  }
 },
 "nbformat": 4,
 "nbformat_minor": 5
}
